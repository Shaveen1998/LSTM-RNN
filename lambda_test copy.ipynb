{
 "cells": [
  {
   "cell_type": "code",
   "execution_count": 1,
   "metadata": {},
   "outputs": [],
   "source": [
    "import snowflake.connector as sf\n",
    "import pandas as pd\n",
    "import numpy as np\n",
    "from sklearn.preprocessing import MinMaxScaler\n",
    "from tensorflow.keras.models import load_model\n",
    "from tensorflow.keras.preprocessing.sequence import TimeseriesGenerator\n",
    "from tensorflow.keras.models import Sequential\n",
    "from tensorflow.keras.layers import Dense, LSTM\n"
   ]
  },
  {
   "cell_type": "code",
   "execution_count": 14,
   "metadata": {},
   "outputs": [],
   "source": [
    "from flask import Flask\n",
    "app = Flask(__name__)"
   ]
  },
  {
   "cell_type": "code",
   "execution_count": 2,
   "metadata": {},
   "outputs": [],
   "source": [
    "# Define the S3 bucket and Snowflake parameters\n",
    "import snowflake.connector as sf\n",
    "#Define the S3 bucket and Snowflake parameters\n",
    "snowflake_account = 'qg08548.central-india.azure'\n",
    "snowflake_user = 'FYP3'\n",
    "snowflake_password = '!Q2w3e4r5t'\n",
    "snowflake_database = 'COAPDATA'\n",
    "snowflake_schema = 'PUBLIC'\n",
    "snowflake_warehouse = 'COMPUTE_WH'\n",
    "snowflake_table = 'daily_consumption'\n"
   ]
  },
  {
   "cell_type": "code",
   "execution_count": 8,
   "metadata": {},
   "outputs": [],
   "source": [
    "snowflake_account = 'BF48652.ap-south-1.aws'\n",
    "snowflake_user = 'FYP2'\n",
    "snowflake_password = '!Q2w3e4r5t'\n",
    "snowflake_database = 'COAPDATA'\n",
    "snowflake_schema = 'PUBLIC'\n",
    "snowflake_warehouse = 'COMPUTE_WH'\n",
    "snowflake_table = 'mlview'"
   ]
  },
  {
   "cell_type": "code",
   "execution_count": 4,
   "metadata": {},
   "outputs": [],
   "source": [
    "# Define the model parameters\n",
    "n_input = 10\n",
    "n_features = 1\n",
    "model_file_name = 'model.h5'\n"
   ]
  },
  {
   "cell_type": "code",
   "execution_count": 5,
   "metadata": {},
   "outputs": [],
   "source": [
    "# load the initial LSTM model\n",
    "model = load_model('model.h5')"
   ]
  },
  {
   "cell_type": "code",
   "execution_count": 6,
   "metadata": {},
   "outputs": [],
   "source": [
    "def train():    \n",
    "    # Connect to Snowflake and retrieve the latest data\n",
    "    conn = sf.connect(user=snowflake_user, password=snowflake_password, account=snowflake_account)\n",
    "    cursor = conn.cursor()\n",
    "    cursor.execute(f\"SELECT * FROM {snowflake_database}.{snowflake_schema}.{snowflake_table} ORDER BY Date DESC\")\n",
    "    data = cursor.fetchall()\n",
    "    cursor.close()\n",
    "    conn.close()\n",
    "    df = pd.DataFrame(data, columns=['Date', 'consumption'])\n",
    "    df.set_index('Date', inplace=True)\n",
    "    df.sort_index(inplace=True)\n",
    "    \n",
    "    # Scale the data using the same scaler used for training\n",
    "    scaler = MinMaxScaler()\n",
    "    scaler.fit(df)\n",
    "    scaled_data = scaler.transform(df)\n",
    "\n",
    "    # Update the model with the new data\n",
    "    generator = TimeseriesGenerator(scaled_data, scaled_data, length=n_input, batch_size=1)\n",
    "    \n",
    "    # take the last 10 and reshape\n",
    "    last_scaled_batch = scaled_data[-10:]\n",
    "    last_scaled_batch = last_scaled_batch.reshape((1, n_input, n_features))\n",
    "    \n",
    "    \n",
    "    model.fit(generator, epochs=1, verbose=0)\n",
    "    \n",
    "    prediction = model.predict(last_scaled_batch)\n",
    "    true_prediction = scaler.inverse_transform(prediction)[0][0]\n",
    "    \n",
    "    snowflake_conn = sf.connect(\n",
    "            user='FYP3',\n",
    "            password='!Q2w3e4r5t',\n",
    "            account='qg08548.central-india.azure',\n",
    "            warehouse='COMPUTE_WH',\n",
    "            database='COAPDATA',\n",
    "            schema='PUBLIC'\n",
    "    )\n",
    "\n",
    "\n",
    "    cursor = snowflake_conn.cursor()\n",
    "    cursor.execute(f\"INSERT INTO predict_table (date, prediction) VALUES (DATEADD(DAY, 1, (SELECT MAX(date) FROM daily_consumption)), {true_prediction})\")\n",
    "    cursor.close()\n",
    "    snowflake_conn.close()\n",
    "    \n",
    "    return 'Training completed successfully'\n"
   ]
  },
  {
   "cell_type": "code",
   "execution_count": 9,
   "metadata": {},
   "outputs": [
    {
     "data": {
      "text/plain": [
       "'Training completed successfully'"
      ]
     },
     "execution_count": 9,
     "metadata": {},
     "output_type": "execute_result"
    }
   ],
   "source": [
    "train()"
   ]
  }
 ],
 "metadata": {
  "kernelspec": {
   "display_name": "Python 3",
   "language": "python",
   "name": "python3"
  },
  "language_info": {
   "codemirror_mode": {
    "name": "ipython",
    "version": 3
   },
   "file_extension": ".py",
   "mimetype": "text/x-python",
   "name": "python",
   "nbconvert_exporter": "python",
   "pygments_lexer": "ipython3",
   "version": "3.9.8"
  },
  "orig_nbformat": 4
 },
 "nbformat": 4,
 "nbformat_minor": 2
}
