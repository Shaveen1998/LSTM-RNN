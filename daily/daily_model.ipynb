{
 "cells": [
  {
   "cell_type": "code",
   "execution_count": 1,
   "metadata": {},
   "outputs": [],
   "source": [
    "import pandas as pd\n",
    "import numpy as np\n",
    "import matplotlib.pyplot as plt"
   ]
  },
  {
   "cell_type": "code",
   "execution_count": 3,
   "metadata": {},
   "outputs": [],
   "source": [
    "df = pd.read_csv('dailymilk_production.csv', index_col='Date',parse_dates=True)\n",
    "df.index.freq = 'D'"
   ]
  },
  {
   "cell_type": "code",
   "execution_count": 5,
   "metadata": {},
   "outputs": [],
   "source": [
    "import numpy as np\n",
    "from sklearn.model_selection import TimeSeriesSplit\n"
   ]
  },
  {
   "cell_type": "code",
   "execution_count": 6,
   "metadata": {},
   "outputs": [],
   "source": [
    "# Define number of splits and window size\n",
    "n_splits = 5\n",
    "window_size = 10"
   ]
  },
  {
   "cell_type": "code",
   "execution_count": 7,
   "metadata": {},
   "outputs": [],
   "source": [
    "# Define the cross-validation iterator\n",
    "tscv = TimeSeriesSplit(n_splits=n_splits)"
   ]
  },
  {
   "cell_type": "code",
   "execution_count": 10,
   "metadata": {},
   "outputs": [],
   "source": [
    "train = df.iloc[:156]\n",
    "test = df.iloc[156:]"
   ]
  },
  {
   "cell_type": "code",
   "execution_count": 8,
   "metadata": {},
   "outputs": [],
   "source": [
    "from sklearn.preprocessing import MinMaxScaler\n",
    "scaler = MinMaxScaler()"
   ]
  },
  {
   "cell_type": "code",
   "execution_count": 11,
   "metadata": {},
   "outputs": [],
   "source": [
    "scaler.fit(train)\n",
    "scaled_train = scaler.transform(train)\n",
    "scaled_test = scaler.transform(test)"
   ]
  },
  {
   "cell_type": "code",
   "execution_count": 12,
   "metadata": {},
   "outputs": [],
   "source": [
    "from keras.preprocessing.sequence import TimeseriesGenerator"
   ]
  },
  {
   "cell_type": "code",
   "execution_count": 13,
   "metadata": {},
   "outputs": [],
   "source": [
    "#define generator\n",
    "n_input = 10\n",
    "n_features = 1\n",
    "generator = TimeseriesGenerator(scaled_train,scaled_train,length =n_input,batch_size=1)"
   ]
  },
  {
   "cell_type": "code",
   "execution_count": 14,
   "metadata": {},
   "outputs": [],
   "source": [
    "from keras.models import Sequential\n",
    "from keras.layers import Dense\n",
    "from keras.layers import LSTM"
   ]
  },
  {
   "cell_type": "code",
   "execution_count": 16,
   "metadata": {},
   "outputs": [],
   "source": [
    "# Build model\n",
    "model = Sequential()\n",
    "model.add(LSTM(100, activation='relu', input_shape=(n_input, n_features)))\n",
    "model.add(Dense(1))\n",
    "model.compile(optimizer='adam', loss='mse')"
   ]
  },
  {
   "cell_type": "code",
   "execution_count": 17,
   "metadata": {},
   "outputs": [
    {
     "name": "stdout",
     "output_type": "stream",
     "text": [
      "Epoch 1/120\n",
      "146/146 [==============================] - 1s 3ms/step - loss: 0.1089\n",
      "Epoch 2/120\n",
      "146/146 [==============================] - 0s 3ms/step - loss: 0.0995\n",
      "Epoch 3/120\n",
      "146/146 [==============================] - 0s 3ms/step - loss: 0.0916\n",
      "Epoch 4/120\n",
      "146/146 [==============================] - 0s 3ms/step - loss: 0.0895A: 0s - loss:\n",
      "Epoch 5/120\n",
      "146/146 [==============================] - 0s 3ms/step - loss: 0.0902\n",
      "Epoch 6/120\n",
      "146/146 [==============================] - 0s 3ms/step - loss: 0.0934\n",
      "Epoch 7/120\n",
      "146/146 [==============================] - 1s 4ms/step - loss: 0.0920\n",
      "Epoch 8/120\n",
      "146/146 [==============================] - 1s 4ms/step - loss: 0.0894A: 0s - loss: 0.\n",
      "Epoch 9/120\n",
      "146/146 [==============================] - 0s 3ms/step - loss: 0.0909\n",
      "Epoch 10/120\n",
      "146/146 [==============================] - 0s 3ms/step - loss: 0.0898\n",
      "Epoch 11/120\n",
      "146/146 [==============================] - 0s 3ms/step - loss: 0.0898\n",
      "Epoch 12/120\n",
      "146/146 [==============================] - 0s 3ms/step - loss: 0.0905\n",
      "Epoch 13/120\n",
      "146/146 [==============================] - 1s 4ms/step - loss: 0.0897\n",
      "Epoch 14/120\n",
      "146/146 [==============================] - 1s 5ms/step - loss: 0.0881\n",
      "Epoch 15/120\n",
      "146/146 [==============================] - 1s 6ms/step - loss: 0.0867\n",
      "Epoch 16/120\n",
      "146/146 [==============================] - 1s 5ms/step - loss: 0.0865\n",
      "Epoch 17/120\n",
      "146/146 [==============================] - 1s 6ms/step - loss: 0.0885\n",
      "Epoch 18/120\n",
      "146/146 [==============================] - 1s 6ms/step - loss: 0.0876\n",
      "Epoch 19/120\n",
      "146/146 [==============================] - 1s 5ms/step - loss: 0.0877\n",
      "Epoch 20/120\n",
      "146/146 [==============================] - 1s 6ms/step - loss: 0.0863\n",
      "Epoch 21/120\n",
      "146/146 [==============================] - 1s 6ms/step - loss: 0.0881\n",
      "Epoch 22/120\n",
      "146/146 [==============================] - 1s 7ms/step - loss: 0.0844\n",
      "Epoch 23/120\n",
      "146/146 [==============================] - 1s 7ms/step - loss: 0.0830\n",
      "Epoch 24/120\n",
      "146/146 [==============================] - 1s 7ms/step - loss: 0.0853\n",
      "Epoch 25/120\n",
      "146/146 [==============================] - 1s 7ms/step - loss: 0.0867\n",
      "Epoch 26/120\n",
      "146/146 [==============================] - 1s 7ms/step - loss: 0.0839\n",
      "Epoch 27/120\n",
      "146/146 [==============================] - 1s 7ms/step - loss: 0.0830\n",
      "Epoch 28/120\n",
      "146/146 [==============================] - 1s 7ms/step - loss: 0.0842\n",
      "Epoch 29/120\n",
      "146/146 [==============================] - 1s 6ms/step - loss: 0.0824\n",
      "Epoch 30/120\n",
      "146/146 [==============================] - 1s 5ms/step - loss: 0.0830\n",
      "Epoch 31/120\n",
      "146/146 [==============================] - 1s 6ms/step - loss: 0.0821\n",
      "Epoch 32/120\n",
      "146/146 [==============================] - 1s 7ms/step - loss: 0.0827\n",
      "Epoch 33/120\n",
      "146/146 [==============================] - 1s 6ms/step - loss: 0.0827\n",
      "Epoch 34/120\n",
      "146/146 [==============================] - 1s 7ms/step - loss: 0.0803\n",
      "Epoch 35/120\n",
      "146/146 [==============================] - 1s 7ms/step - loss: 0.0813\n",
      "Epoch 36/120\n",
      "146/146 [==============================] - 1s 7ms/step - loss: 0.0796\n",
      "Epoch 37/120\n",
      "146/146 [==============================] - 1s 7ms/step - loss: 0.0786\n",
      "Epoch 38/120\n",
      "146/146 [==============================] - 1s 7ms/step - loss: 0.0794\n",
      "Epoch 39/120\n",
      "146/146 [==============================] - 1s 7ms/step - loss: 0.0795\n",
      "Epoch 40/120\n",
      "146/146 [==============================] - 1s 7ms/step - loss: 0.0790\n",
      "Epoch 41/120\n",
      "146/146 [==============================] - 1s 6ms/step - loss: 0.0781\n",
      "Epoch 42/120\n",
      "146/146 [==============================] - 1s 7ms/step - loss: 0.0780\n",
      "Epoch 43/120\n",
      "146/146 [==============================] - 1s 7ms/step - loss: 0.0778\n",
      "Epoch 44/120\n",
      "146/146 [==============================] - 1s 7ms/step - loss: 0.0779\n",
      "Epoch 45/120\n",
      "146/146 [==============================] - 1s 7ms/step - loss: 0.0792\n",
      "Epoch 46/120\n",
      "146/146 [==============================] - 1s 7ms/step - loss: 0.0765\n",
      "Epoch 47/120\n",
      "146/146 [==============================] - 1s 7ms/step - loss: 0.0773\n",
      "Epoch 48/120\n",
      "146/146 [==============================] - 1s 7ms/step - loss: 0.0777\n",
      "Epoch 49/120\n",
      "146/146 [==============================] - 1s 6ms/step - loss: 0.0764\n",
      "Epoch 50/120\n",
      "146/146 [==============================] - 1s 4ms/step - loss: 0.0772\n",
      "Epoch 51/120\n",
      "146/146 [==============================] - 1s 5ms/step - loss: 0.0754\n",
      "Epoch 52/120\n",
      "146/146 [==============================] - 1s 5ms/step - loss: 0.0745\n",
      "Epoch 53/120\n",
      "146/146 [==============================] - 1s 6ms/step - loss: 0.0780\n",
      "Epoch 54/120\n",
      "146/146 [==============================] - 1s 5ms/step - loss: 0.0762\n",
      "Epoch 55/120\n",
      "146/146 [==============================] - 1s 6ms/step - loss: 0.0754\n",
      "Epoch 56/120\n",
      "146/146 [==============================] - 1s 6ms/step - loss: 0.0730\n",
      "Epoch 57/120\n",
      "146/146 [==============================] - 1s 7ms/step - loss: 0.0762\n",
      "Epoch 58/120\n",
      "146/146 [==============================] - 1s 7ms/step - loss: 0.0746\n",
      "Epoch 59/120\n",
      "146/146 [==============================] - 1s 7ms/step - loss: 0.0750\n",
      "Epoch 60/120\n",
      "146/146 [==============================] - 1s 7ms/step - loss: 0.0730\n",
      "Epoch 61/120\n",
      "146/146 [==============================] - 1s 7ms/step - loss: 0.0736\n",
      "Epoch 62/120\n",
      "146/146 [==============================] - 1s 7ms/step - loss: 0.0725\n",
      "Epoch 63/120\n",
      "146/146 [==============================] - 1s 7ms/step - loss: 0.0719\n",
      "Epoch 64/120\n",
      "146/146 [==============================] - 1s 7ms/step - loss: 0.0741\n",
      "Epoch 65/120\n",
      "146/146 [==============================] - 1s 7ms/step - loss: 0.0707\n",
      "Epoch 66/120\n",
      "146/146 [==============================] - 1s 7ms/step - loss: 0.0726\n",
      "Epoch 67/120\n",
      "146/146 [==============================] - 1s 7ms/step - loss: 0.0736\n",
      "Epoch 68/120\n",
      "146/146 [==============================] - 1s 7ms/step - loss: 0.0711\n",
      "Epoch 69/120\n",
      "146/146 [==============================] - 1s 6ms/step - loss: 0.0731\n",
      "Epoch 70/120\n",
      "146/146 [==============================] - 1s 8ms/step - loss: 0.0703\n",
      "Epoch 71/120\n",
      "146/146 [==============================] - 1s 7ms/step - loss: 0.0700\n",
      "Epoch 72/120\n",
      "146/146 [==============================] - 1s 7ms/step - loss: 0.0702\n",
      "Epoch 73/120\n",
      "146/146 [==============================] - 1s 7ms/step - loss: 0.0689\n",
      "Epoch 74/120\n",
      "146/146 [==============================] - 1s 7ms/step - loss: 0.0733\n",
      "Epoch 75/120\n",
      "146/146 [==============================] - 1s 6ms/step - loss: 0.0690\n",
      "Epoch 76/120\n",
      "146/146 [==============================] - 1s 7ms/step - loss: 0.0693\n",
      "Epoch 77/120\n",
      "146/146 [==============================] - 1s 7ms/step - loss: 0.0687\n",
      "Epoch 78/120\n",
      "146/146 [==============================] - 1s 7ms/step - loss: 0.0693\n",
      "Epoch 79/120\n",
      "146/146 [==============================] - 1s 7ms/step - loss: 0.0654\n",
      "Epoch 80/120\n",
      "146/146 [==============================] - 1s 6ms/step - loss: 0.0656\n",
      "Epoch 81/120\n",
      "146/146 [==============================] - 1s 7ms/step - loss: 0.0669\n",
      "Epoch 82/120\n",
      "146/146 [==============================] - 1s 7ms/step - loss: 0.0658\n",
      "Epoch 83/120\n",
      "146/146 [==============================] - 1s 6ms/step - loss: 0.0664\n",
      "Epoch 84/120\n",
      "146/146 [==============================] - 1s 7ms/step - loss: 0.0659A\n",
      "Epoch 85/120\n",
      "146/146 [==============================] - 1s 6ms/step - loss: 0.0654\n",
      "Epoch 86/120\n",
      "146/146 [==============================] - 1s 8ms/step - loss: 0.0661\n",
      "Epoch 87/120\n",
      "146/146 [==============================] - 1s 7ms/step - loss: 0.0643\n",
      "Epoch 88/120\n",
      "146/146 [==============================] - 1s 5ms/step - loss: 0.0620\n",
      "Epoch 89/120\n",
      "146/146 [==============================] - 1s 4ms/step - loss: 0.0637\n",
      "Epoch 90/120\n",
      "146/146 [==============================] - 1s 4ms/step - loss: 0.0625\n",
      "Epoch 91/120\n",
      "146/146 [==============================] - 1s 5ms/step - loss: 0.0627\n",
      "Epoch 92/120\n",
      "146/146 [==============================] - 1s 7ms/step - loss: 0.0625\n",
      "Epoch 93/120\n",
      "146/146 [==============================] - 1s 6ms/step - loss: 0.0631\n",
      "Epoch 94/120\n",
      "146/146 [==============================] - 1s 7ms/step - loss: 0.0626\n",
      "Epoch 95/120\n",
      "146/146 [==============================] - 1s 7ms/step - loss: 0.0586\n",
      "Epoch 96/120\n",
      "146/146 [==============================] - 1s 7ms/step - loss: 0.0584\n",
      "Epoch 97/120\n",
      "146/146 [==============================] - 1s 7ms/step - loss: 0.0596\n",
      "Epoch 98/120\n",
      "146/146 [==============================] - 1s 7ms/step - loss: 0.0584\n",
      "Epoch 99/120\n",
      "146/146 [==============================] - 1s 6ms/step - loss: 0.0580\n",
      "Epoch 100/120\n",
      "146/146 [==============================] - 1s 7ms/step - loss: 0.0594\n",
      "Epoch 101/120\n",
      "146/146 [==============================] - 1s 7ms/step - loss: 0.0580\n",
      "Epoch 102/120\n",
      "146/146 [==============================] - 1s 7ms/step - loss: 0.0560A: 0s - \n",
      "Epoch 103/120\n",
      "146/146 [==============================] - 1s 7ms/step - loss: 0.0554\n",
      "Epoch 104/120\n",
      "146/146 [==============================] - 1s 7ms/step - loss: 0.0558\n",
      "Epoch 105/120\n",
      "146/146 [==============================] - 1s 4ms/step - loss: 0.0609\n",
      "Epoch 106/120\n",
      "146/146 [==============================] - 1s 3ms/step - loss: 0.0557\n",
      "Epoch 107/120\n",
      "146/146 [==============================] - 1s 4ms/step - loss: 0.0550\n",
      "Epoch 108/120\n",
      "146/146 [==============================] - 1s 7ms/step - loss: 0.0575\n",
      "Epoch 109/120\n",
      "146/146 [==============================] - 1s 7ms/step - loss: 0.0529\n",
      "Epoch 110/120\n",
      "146/146 [==============================] - 1s 7ms/step - loss: 0.0524\n",
      "Epoch 111/120\n",
      "146/146 [==============================] - 1s 7ms/step - loss: 0.0540\n",
      "Epoch 112/120\n",
      "146/146 [==============================] - 1s 7ms/step - loss: 0.0515\n",
      "Epoch 113/120\n",
      "146/146 [==============================] - 1s 6ms/step - loss: 0.0531\n",
      "Epoch 114/120\n",
      "146/146 [==============================] - 1s 7ms/step - loss: 0.0518\n",
      "Epoch 115/120\n",
      "146/146 [==============================] - 1s 7ms/step - loss: 0.0525\n",
      "Epoch 116/120\n",
      "146/146 [==============================] - 1s 4ms/step - loss: 0.0514\n",
      "Epoch 117/120\n",
      "146/146 [==============================] - 1s 4ms/step - loss: 0.0495\n",
      "Epoch 118/120\n",
      "146/146 [==============================] - 1s 5ms/step - loss: 0.0519\n",
      "Epoch 119/120\n",
      "146/146 [==============================] - 1s 5ms/step - loss: 0.0523\n",
      "Epoch 120/120\n",
      "146/146 [==============================] - 1s 4ms/step - loss: 0.0520\n"
     ]
    },
    {
     "data": {
      "text/plain": [
       "<keras.callbacks.History at 0x1e72f3e3820>"
      ]
     },
     "execution_count": 17,
     "metadata": {},
     "output_type": "execute_result"
    }
   ],
   "source": [
    "# Train model\n",
    "model.fit(generator, epochs=120)"
   ]
  },
  {
   "cell_type": "code",
   "execution_count": 18,
   "metadata": {},
   "outputs": [
    {
     "name": "stdout",
     "output_type": "stream",
     "text": [
      "18/18 [==============================] - 0s 2ms/step - loss: 0.0454\n",
      "Test set MSE: 0.045\n"
     ]
    }
   ],
   "source": [
    "# Evaluate model on test set\n",
    "test_generator = TimeseriesGenerator(scaled_test, scaled_test, length=n_input, batch_size=1)\n",
    "test_mse = model.evaluate(test_generator)\n",
    "print(f'Test set MSE: {test_mse:.3f}')"
   ]
  },
  {
   "cell_type": "code",
   "execution_count": 19,
   "metadata": {},
   "outputs": [],
   "source": [
    "# Cross-validation\n",
    "n_splits = 5\n",
    "tscv = TimeSeriesSplit(n_splits=n_splits)\n",
    "cv_mses = []\n",
    "for train_index, test_index in tscv.split(df):\n",
    "    # Split the data into training and test sets\n",
    "    train = df.iloc[train_index]\n",
    "    test = df.iloc[test_index]\n",
    "\n",
    "    # Scale the data\n",
    "    scaler.fit(train)\n",
    "    scaled_train = scaler.transform(train)\n",
    "    scaled_test = scaler.transform(test)\n",
    "\n",
    "    # Generate sequences\n",
    "    train_generator = TimeseriesGenerator(scaled_train, scaled_train,\n",
    "                                           length=n_input, batch_size=1)\n",
    "    test_generator = TimeseriesGenerator(scaled_test, scaled_test,\n",
    "                                          length=n_input, batch_size=1)\n",
    "\n",
    "    # Build the model\n",
    "    model = Sequential()\n",
    "    model.add(LSTM(100, activation='relu', input_shape=(n_input, 1)))\n",
    "    model.add(Dense(1))\n",
    "    model.compile(optimizer='adam', loss='mse')\n",
    "\n",
    "    # Train the model\n",
    "    model.fit(train_generator, epochs=120, verbose=0)\n",
    "\n",
    "    # Evaluate the model on the test set\n",
    "    mse = model.evaluate(test_generator, verbose=0)\n",
    "    cv_mses.append(mse)\n"
   ]
  },
  {
   "cell_type": "code",
   "execution_count": null,
   "metadata": {},
   "outputs": [],
   "source": [
    "from keras.regularizers import L2\n",
    "from keras.layers import Dropout\n",
    "\n",
    "model = Sequential()\n",
    "model.add(LSTM(100, activation='relu', input_shape=(n_input, n_features), \n",
    "               kernel_regularizer=L2(0.001), recurrent_regularizer=L2(0.001)))\n",
    "model.add(Dropout(0.2))\n",
    "model.add(Dense(1))\n",
    "model.compile(optimizer='adam', loss='mse')"
   ]
  },
  {
   "cell_type": "code",
   "execution_count": 20,
   "metadata": {},
   "outputs": [
    {
     "name": "stdout",
     "output_type": "stream",
     "text": [
      "Cross-validation results:\n",
      "Mean MSE: 0.140\n",
      "STD MSE: 0.050\n"
     ]
    }
   ],
   "source": [
    "# Print cross-validation results\n",
    "mean_cv_mse = np.mean(cv_mses)\n",
    "std_cv_mse = np.std(cv_mses)\n",
    "print(f'Cross-validation results:')\n",
    "print(f'Mean MSE: {mean_cv_mse:.3f}')\n",
    "print(f'STD MSE: {std_cv_mse:.3f}')"
   ]
  },
  {
   "cell_type": "code",
   "execution_count": null,
   "metadata": {},
   "outputs": [],
   "source": []
  }
 ],
 "metadata": {
  "kernelspec": {
   "display_name": "Python 3",
   "language": "python",
   "name": "python3"
  },
  "language_info": {
   "codemirror_mode": {
    "name": "ipython",
    "version": 3
   },
   "file_extension": ".py",
   "mimetype": "text/x-python",
   "name": "python",
   "nbconvert_exporter": "python",
   "pygments_lexer": "ipython3",
   "version": "3.9.8"
  },
  "orig_nbformat": 4
 },
 "nbformat": 4,
 "nbformat_minor": 2
}
