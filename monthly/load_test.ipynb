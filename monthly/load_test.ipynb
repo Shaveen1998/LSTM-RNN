{
 "cells": [
  {
   "cell_type": "code",
   "execution_count": 1,
   "metadata": {},
   "outputs": [],
   "source": [
    "import pandas as pd\n",
    "import numpy as np\n",
    "from tensorflow.keras.models import load_model\n",
    "from tensorflow.keras.preprocessing.sequence import pad_sequences\n",
    "from sklearn.preprocessing import MinMaxScaler\n",
    "scaler = MinMaxScaler()\n",
    "from keras.preprocessing.sequence import TimeseriesGenerator"
   ]
  },
  {
   "cell_type": "code",
   "execution_count": 6,
   "metadata": {},
   "outputs": [],
   "source": [
    "import snowflake.connector as sf\n",
    "#Define the S3 bucket and Snowflake parameters\n",
    "snowflake_account = 'at67872.ap-south-1.aws'\n",
    "snowflake_user = 'FYP4'\n",
    "snowflake_password = '!Q2w3e4r5t6y'\n",
    "snowflake_database = 'COAPDATA'\n",
    "snowflake_schema = 'PUBLIC'\n",
    "snowflake_warehouse = 'COMPUTE_WH'\n",
    "snowflake_table = 'monthly_consumption'"
   ]
  },
  {
   "cell_type": "code",
   "execution_count": 7,
   "metadata": {},
   "outputs": [],
   "source": [
    "# Define the model parameters\n",
    "n_input = 12\n",
    "n_features = 1\n",
    "model_file_name = 'monthly_model.h5'\n",
    "#load the initial LSTM model\n",
    "model = load_model(model_file_name)"
   ]
  },
  {
   "cell_type": "code",
   "execution_count": 8,
   "metadata": {},
   "outputs": [],
   "source": [
    "#Connect to Snowflake and retrieve the latest data\n",
    "#Connect to Snowflake and retrieve the latest data\n",
    "conn = sf.connect(user=snowflake_user, password=snowflake_password, account=snowflake_account)\n",
    "cursor = conn.cursor()\n",
    "cursor.execute(f\"SELECT * FROM {snowflake_database}.{snowflake_schema}.{snowflake_table} ORDER BY date DESC\")\n",
    "data = cursor.fetchall()\n",
    "cursor.close()\n",
    "conn.close()\n",
    "df = pd.DataFrame(data, columns=['Month', 'consumption'])\n",
    "df.set_index('Month', inplace=True)\n",
    "df.sort_index(inplace=True)"
   ]
  },
  {
   "cell_type": "code",
   "execution_count": 9,
   "metadata": {},
   "outputs": [
    {
     "data": {
      "text/html": [
       "<div>\n",
       "<style scoped>\n",
       "    .dataframe tbody tr th:only-of-type {\n",
       "        vertical-align: middle;\n",
       "    }\n",
       "\n",
       "    .dataframe tbody tr th {\n",
       "        vertical-align: top;\n",
       "    }\n",
       "\n",
       "    .dataframe thead th {\n",
       "        text-align: right;\n",
       "    }\n",
       "</style>\n",
       "<table border=\"1\" class=\"dataframe\">\n",
       "  <thead>\n",
       "    <tr style=\"text-align: right;\">\n",
       "      <th></th>\n",
       "      <th>consumption</th>\n",
       "    </tr>\n",
       "    <tr>\n",
       "      <th>Month</th>\n",
       "      <th></th>\n",
       "    </tr>\n",
       "  </thead>\n",
       "  <tbody>\n",
       "    <tr>\n",
       "      <th>2022-01-01</th>\n",
       "      <td>1250.0</td>\n",
       "    </tr>\n",
       "    <tr>\n",
       "      <th>2022-02-01</th>\n",
       "      <td>1500.0</td>\n",
       "    </tr>\n",
       "    <tr>\n",
       "      <th>2022-03-01</th>\n",
       "      <td>1700.0</td>\n",
       "    </tr>\n",
       "    <tr>\n",
       "      <th>2022-04-01</th>\n",
       "      <td>1800.0</td>\n",
       "    </tr>\n",
       "    <tr>\n",
       "      <th>2022-05-01</th>\n",
       "      <td>1900.0</td>\n",
       "    </tr>\n",
       "    <tr>\n",
       "      <th>2022-06-01</th>\n",
       "      <td>2000.0</td>\n",
       "    </tr>\n",
       "    <tr>\n",
       "      <th>2022-07-01</th>\n",
       "      <td>950.0</td>\n",
       "    </tr>\n",
       "    <tr>\n",
       "      <th>2022-08-01</th>\n",
       "      <td>1200.0</td>\n",
       "    </tr>\n",
       "    <tr>\n",
       "      <th>2022-09-01</th>\n",
       "      <td>1250.0</td>\n",
       "    </tr>\n",
       "    <tr>\n",
       "      <th>2022-10-01</th>\n",
       "      <td>1500.0</td>\n",
       "    </tr>\n",
       "    <tr>\n",
       "      <th>2022-11-01</th>\n",
       "      <td>1700.0</td>\n",
       "    </tr>\n",
       "    <tr>\n",
       "      <th>2022-12-01</th>\n",
       "      <td>1800.0</td>\n",
       "    </tr>\n",
       "    <tr>\n",
       "      <th>2023-01-01</th>\n",
       "      <td>1900.0</td>\n",
       "    </tr>\n",
       "    <tr>\n",
       "      <th>2023-02-01</th>\n",
       "      <td>2000.0</td>\n",
       "    </tr>\n",
       "    <tr>\n",
       "      <th>2023-03-01</th>\n",
       "      <td>950.0</td>\n",
       "    </tr>\n",
       "    <tr>\n",
       "      <th>2023-04-01</th>\n",
       "      <td>1200.0</td>\n",
       "    </tr>\n",
       "    <tr>\n",
       "      <th>2023-05-01</th>\n",
       "      <td>1200.0</td>\n",
       "    </tr>\n",
       "  </tbody>\n",
       "</table>\n",
       "</div>"
      ],
      "text/plain": [
       "            consumption\n",
       "Month                  \n",
       "2022-01-01       1250.0\n",
       "2022-02-01       1500.0\n",
       "2022-03-01       1700.0\n",
       "2022-04-01       1800.0\n",
       "2022-05-01       1900.0\n",
       "2022-06-01       2000.0\n",
       "2022-07-01        950.0\n",
       "2022-08-01       1200.0\n",
       "2022-09-01       1250.0\n",
       "2022-10-01       1500.0\n",
       "2022-11-01       1700.0\n",
       "2022-12-01       1800.0\n",
       "2023-01-01       1900.0\n",
       "2023-02-01       2000.0\n",
       "2023-03-01        950.0\n",
       "2023-04-01       1200.0\n",
       "2023-05-01       1200.0"
      ]
     },
     "execution_count": 9,
     "metadata": {},
     "output_type": "execute_result"
    }
   ],
   "source": [
    "df"
   ]
  },
  {
   "cell_type": "code",
   "execution_count": 22,
   "metadata": {},
   "outputs": [
    {
     "name": "stdout",
     "output_type": "stream",
     "text": [
      "consumption    float64\n",
      "dtype: object\n"
     ]
    }
   ],
   "source": [
    "print(df.dtypes)"
   ]
  },
  {
   "cell_type": "code",
   "execution_count": 10,
   "metadata": {},
   "outputs": [],
   "source": [
    "# Scale the data using the same scaler used for training\n",
    "scaler.fit(df)\n",
    "scaled_data = scaler.transform(df)"
   ]
  },
  {
   "cell_type": "code",
   "execution_count": 7,
   "metadata": {},
   "outputs": [
    {
     "data": {
      "text/plain": [
       "array([[0.81069959],\n",
       "       [0.62139918],\n",
       "       [0.58847737],\n",
       "       [1.        ],\n",
       "       [0.95884774],\n",
       "       [0.88888889],\n",
       "       [0.59259259],\n",
       "       [0.72427984],\n",
       "       [0.66255144],\n",
       "       [0.6090535 ],\n",
       "       [0.17695473],\n",
       "       [0.        ]])"
      ]
     },
     "execution_count": 7,
     "metadata": {},
     "output_type": "execute_result"
    }
   ],
   "source": [
    "scaled_data"
   ]
  },
  {
   "cell_type": "code",
   "execution_count": 11,
   "metadata": {},
   "outputs": [],
   "source": [
    "# Update the model with the new data\n",
    "generator = TimeseriesGenerator(scaled_data, scaled_data, length=n_input, batch_size=1)"
   ]
  },
  {
   "cell_type": "code",
   "execution_count": 12,
   "metadata": {},
   "outputs": [],
   "source": [
    "# take the last 10 and reshape\n",
    "last_scaled_batch = scaled_data[-12:]\n",
    "last_scaled_batch = last_scaled_batch.reshape((1, n_input, n_features))"
   ]
  },
  {
   "cell_type": "code",
   "execution_count": 13,
   "metadata": {},
   "outputs": [],
   "source": [
    "model.fit(generator, epochs=1, verbose=0)\n",
    "model.save('monthly_model.h5')\n",
    "    \n"
   ]
  },
  {
   "cell_type": "code",
   "execution_count": 14,
   "metadata": {},
   "outputs": [],
   "source": [
    "prediction = model.predict(last_scaled_batch)\n",
    "true_prediction = scaler.inverse_transform(prediction)[0][0]"
   ]
  },
  {
   "cell_type": "code",
   "execution_count": 30,
   "metadata": {},
   "outputs": [
    {
     "data": {
      "text/plain": [
       "859.0288"
      ]
     },
     "execution_count": 30,
     "metadata": {},
     "output_type": "execute_result"
    }
   ],
   "source": [
    "true_prediction"
   ]
  },
  {
   "cell_type": "code",
   "execution_count": 17,
   "metadata": {},
   "outputs": [],
   "source": [
    "snowflake_conn = sf.connect(\n",
    "            user='FYP4',\n",
    "            password='!Q2w3e4r5t6y',\n",
    "            account='at67872.ap-south-1.aws',\n",
    "            warehouse='COMPUTE_WH',\n",
    "            database='COAPDATA',\n",
    "            schema='PUBLIC'\n",
    "    )\n",
    "\n",
    "\n",
    "cursor = snowflake_conn.cursor()\n",
    "#cursor.execute(f\"INSERT INTO monthly_predict_table (date, prediction) VALUES (DATEADD(DAY, 1, (SELECT MAX(date) FROM monthly_consumption)), {true_prediction})\")\n",
    "cursor.execute(f\"INSERT INTO monthly_predict_table (date, prediction) VALUES (DATEADD(MONTH, 1, (SELECT MAX(date) FROM monthly_consumption)), {true_prediction})\")\n",
    "cursor.close()\n",
    "\n",
    "#cursor.close()\n",
    "snowflake_conn.close()\n",
    "    "
   ]
  }
 ],
 "metadata": {
  "kernelspec": {
   "display_name": "Python 3",
   "language": "python",
   "name": "python3"
  },
  "language_info": {
   "codemirror_mode": {
    "name": "ipython",
    "version": 3
   },
   "file_extension": ".py",
   "mimetype": "text/x-python",
   "name": "python",
   "nbconvert_exporter": "python",
   "pygments_lexer": "ipython3",
   "version": "3.9.8"
  },
  "orig_nbformat": 4
 },
 "nbformat": 4,
 "nbformat_minor": 2
}
