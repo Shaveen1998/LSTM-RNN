{
 "cells": [
  {
   "cell_type": "code",
   "execution_count": 171,
   "metadata": {},
   "outputs": [],
   "source": [
    "import pandas as pd\n",
    "import numpy as np\n",
    "from sklearn.preprocessing import MinMaxScaler\n",
    "from keras.preprocessing.sequence import TimeseriesGenerator\n",
    "from keras.models import Sequential\n",
    "from keras.layers import Dense, LSTM\n",
    "import matplotlib.pyplot as plt"
   ]
  },
  {
   "cell_type": "code",
   "execution_count": 172,
   "metadata": {},
   "outputs": [],
   "source": [
    "df = pd.read_csv('monthly_milk_production.csv', index_col='Date',parse_dates=True)\n",
    "df.index.asfreq = 'MS'"
   ]
  },
  {
   "cell_type": "code",
   "execution_count": 173,
   "metadata": {},
   "outputs": [],
   "source": [
    "# Split the dataset into train and validation sets\n",
    "# train_size = int(len(df) * 0.8)\n",
    "train = df.iloc[:156]\n",
    "val = df.iloc[156:]"
   ]
  },
  {
   "cell_type": "code",
   "execution_count": 174,
   "metadata": {},
   "outputs": [],
   "source": [
    "# Scale the data using MinMaxScaler\n",
    "scaler = MinMaxScaler()\n",
    "train_scaled = scaler.fit_transform(train)\n",
    "val_scaled = scaler.transform(val)"
   ]
  },
  {
   "cell_type": "code",
   "execution_count": 175,
   "metadata": {},
   "outputs": [],
   "source": [
    "# Define the generator for the training data\n",
    "n_input = 10\n",
    "n_features = 1\n",
    "train_generator = TimeseriesGenerator(train_scaled, train_scaled, length=n_input, batch_size=1)\n"
   ]
  },
  {
   "cell_type": "code",
   "execution_count": 176,
   "metadata": {},
   "outputs": [],
   "source": [
    "# Define the LSTM model architecture\n",
    "model = Sequential()\n",
    "model.add(LSTM(100, activation='relu', input_shape=(n_input, n_features)))\n",
    "model.add(Dense(1))\n",
    "model.compile(optimizer='adam', loss='mse')"
   ]
  },
  {
   "cell_type": "code",
   "execution_count": 177,
   "metadata": {},
   "outputs": [],
   "source": [
    "# Define the generator for the validation data\n",
    "val_generator = TimeseriesGenerator(val_scaled, val_scaled, length=n_input, batch_size=1)\n"
   ]
  },
  {
   "cell_type": "code",
   "execution_count": 178,
   "metadata": {},
   "outputs": [
    {
     "name": "stdout",
     "output_type": "stream",
     "text": [
      "Epoch 1/50\n",
      "146/146 [==============================] - 2s 4ms/step - loss: 0.0557 - val_loss: 0.0084\n",
      "Epoch 2/50\n",
      "146/146 [==============================] - 0s 3ms/step - loss: 0.0267 - val_loss: 0.0083\n",
      "Epoch 3/50\n",
      "146/146 [==============================] - 0s 3ms/step - loss: 0.0254 - val_loss: 0.0098\n",
      "Epoch 4/50\n",
      "146/146 [==============================] - 0s 3ms/step - loss: 0.0232 - val_loss: 0.0084\n",
      "Epoch 5/50\n",
      "146/146 [==============================] - 0s 3ms/step - loss: 0.0219 - val_loss: 0.0115\n",
      "Epoch 6/50\n",
      "146/146 [==============================] - 0s 3ms/step - loss: 0.0188 - val_loss: 0.0052\n",
      "Epoch 7/50\n",
      "146/146 [==============================] - 0s 3ms/step - loss: 0.0163 - val_loss: 0.0039\n",
      "Epoch 8/50\n",
      "146/146 [==============================] - 0s 3ms/step - loss: 0.0129 - val_loss: 0.0149\n",
      "Epoch 9/50\n",
      "146/146 [==============================] - 0s 3ms/step - loss: 0.0120 - val_loss: 0.0036\n",
      "Epoch 10/50\n",
      "146/146 [==============================] - 0s 3ms/step - loss: 0.0101 - val_loss: 0.0061\n",
      "Epoch 11/50\n",
      "146/146 [==============================] - 0s 3ms/step - loss: 0.0097 - val_loss: 0.0066\n",
      "Epoch 12/50\n",
      "146/146 [==============================] - 0s 3ms/step - loss: 0.0108 - val_loss: 0.0039\n",
      "Epoch 13/50\n",
      "146/146 [==============================] - 0s 3ms/step - loss: 0.0078 - val_loss: 0.0080\n",
      "Epoch 14/50\n",
      "146/146 [==============================] - 0s 3ms/step - loss: 0.0074 - val_loss: 0.0033\n",
      "Epoch 15/50\n",
      "146/146 [==============================] - 0s 3ms/step - loss: 0.0078 - val_loss: 0.0073\n",
      "Epoch 16/50\n",
      "146/146 [==============================] - 0s 3ms/step - loss: 0.0064 - val_loss: 0.0044\n",
      "Epoch 17/50\n",
      "146/146 [==============================] - 0s 3ms/step - loss: 0.0061 - val_loss: 0.0038\n",
      "Epoch 18/50\n",
      "146/146 [==============================] - 0s 3ms/step - loss: 0.0069 - val_loss: 0.0067\n",
      "Epoch 19/50\n",
      "146/146 [==============================] - 0s 3ms/step - loss: 0.0070 - val_loss: 0.0214\n",
      "Epoch 20/50\n",
      "146/146 [==============================] - 0s 3ms/step - loss: 0.0062 - val_loss: 0.0064\n",
      "Epoch 21/50\n",
      "146/146 [==============================] - 0s 3ms/step - loss: 0.0058 - val_loss: 0.0037\n",
      "Epoch 22/50\n",
      "146/146 [==============================] - 0s 3ms/step - loss: 0.0070 - val_loss: 0.0027\n",
      "Epoch 23/50\n",
      "146/146 [==============================] - 0s 3ms/step - loss: 0.0067 - val_loss: 0.0034\n",
      "Epoch 24/50\n",
      "146/146 [==============================] - 1s 5ms/step - loss: 0.0050 - val_loss: 0.0079\n",
      "Epoch 25/50\n",
      "146/146 [==============================] - 1s 6ms/step - loss: 0.0050 - val_loss: 0.0050\n",
      "Epoch 26/50\n",
      "146/146 [==============================] - 1s 4ms/step - loss: 0.0054 - val_loss: 0.0042\n",
      "Epoch 27/50\n",
      "146/146 [==============================] - 1s 4ms/step - loss: 0.0050 - val_loss: 0.0035\n",
      "Epoch 28/50\n",
      "146/146 [==============================] - 0s 3ms/step - loss: 0.0053 - val_loss: 0.0069\n",
      "Epoch 29/50\n",
      "146/146 [==============================] - 0s 3ms/step - loss: 0.0052 - val_loss: 0.0051\n",
      "Epoch 30/50\n",
      "146/146 [==============================] - 0s 3ms/step - loss: 0.0042 - val_loss: 0.0029\n",
      "Epoch 31/50\n",
      "146/146 [==============================] - 0s 3ms/step - loss: 0.0048 - val_loss: 0.0047\n",
      "Epoch 32/50\n",
      "146/146 [==============================] - 0s 3ms/step - loss: 0.0045 - val_loss: 0.0041\n",
      "Epoch 33/50\n",
      "146/146 [==============================] - 0s 3ms/step - loss: 0.0044 - val_loss: 0.0065\n",
      "Epoch 34/50\n",
      "146/146 [==============================] - 0s 3ms/step - loss: 0.0051 - val_loss: 0.0058\n",
      "Epoch 35/50\n",
      "146/146 [==============================] - 1s 4ms/step - loss: 0.0043 - val_loss: 0.0045\n",
      "Epoch 36/50\n",
      "146/146 [==============================] - 1s 4ms/step - loss: 0.0036 - val_loss: 0.0021\n",
      "Epoch 37/50\n",
      "146/146 [==============================] - 1s 4ms/step - loss: 0.0039 - val_loss: 0.0028\n",
      "Epoch 38/50\n",
      "146/146 [==============================] - 1s 4ms/step - loss: 0.0037 - val_loss: 0.0039\n",
      "Epoch 39/50\n",
      "146/146 [==============================] - 1s 4ms/step - loss: 0.0036 - val_loss: 0.0071\n",
      "Epoch 40/50\n",
      "146/146 [==============================] - 1s 3ms/step - loss: 0.0033 - val_loss: 0.0035\n",
      "Epoch 41/50\n",
      "146/146 [==============================] - 1s 4ms/step - loss: 0.0030 - val_loss: 0.0030\n",
      "Epoch 42/50\n",
      "146/146 [==============================] - 1s 4ms/step - loss: 0.0031 - val_loss: 0.0036\n",
      "Epoch 43/50\n",
      "146/146 [==============================] - 1s 4ms/step - loss: 0.0035 - val_loss: 0.0022\n",
      "Epoch 44/50\n",
      "146/146 [==============================] - 1s 4ms/step - loss: 0.0034 - val_loss: 0.0026\n",
      "Epoch 45/50\n",
      "146/146 [==============================] - 1s 4ms/step - loss: 0.0026 - val_loss: 0.0023\n",
      "Epoch 46/50\n",
      "146/146 [==============================] - 1s 3ms/step - loss: 0.0033 - val_loss: 0.0017\n",
      "Epoch 47/50\n",
      "146/146 [==============================] - 0s 3ms/step - loss: 0.0028 - val_loss: 0.0027\n",
      "Epoch 48/50\n",
      "146/146 [==============================] - 1s 4ms/step - loss: 0.0028 - val_loss: 0.0031\n",
      "Epoch 49/50\n",
      "146/146 [==============================] - 1s 4ms/step - loss: 0.0033 - val_loss: 0.0027\n",
      "Epoch 50/50\n",
      "146/146 [==============================] - 1s 3ms/step - loss: 0.0025 - val_loss: 0.0020\n"
     ]
    }
   ],
   "source": [
    "# Train the model\n",
    "history = model.fit(train_generator, epochs=50, verbose=1, validation_data=val_generator)\n"
   ]
  },
  {
   "cell_type": "code",
   "execution_count": 179,
   "metadata": {},
   "outputs": [
    {
     "data": {
      "image/png": "[encoded data removed]",
      "text/plain": [
       "<Figure size 432x288 with 1 Axes>"
      ]
     },
     "metadata": {
      "needs_background": "light"
     },
     "output_type": "display_data"
    }
   ],
   "source": [
    "# Plot the training loss\n",
    "train_loss = history.history['loss']\n",
    "epochs = range(1, len(train_loss) + 1)\n",
    "plt.plot(epochs, train_loss, 'bo', label='Training loss')\n",
    "plt.title('Training loss')\n",
    "plt.xlabel('Epochs')\n",
    "plt.ylabel('Loss')\n",
    "plt.legend()\n",
    "plt.show()"
   ]
  },
  {
   "cell_type": "code",
   "execution_count": 180,
   "metadata": {},
   "outputs": [
    {
     "data": {
      "image/png": "[encoded data removed]",
      "text/plain": [
       "<Figure size 432x288 with 1 Axes>"
      ]
     },
     "metadata": {
      "needs_background": "light"
     },
     "output_type": "display_data"
    }
   ],
   "source": [
    "# Plot the training and validation loss\n",
    "train_loss = history.history['loss']\n",
    "val_loss = history.history['val_loss']\n",
    "epochs = range(1, len(train_loss) + 1)\n",
    "plt.plot(epochs, train_loss, 'bo', label='Training loss')\n",
    "plt.plot(epochs, val_loss, 'b', label='Validation loss')\n",
    "plt.title('Training and Validation Loss')\n",
    "plt.xlabel('Epochs')\n",
    "plt.ylabel('Loss')\n",
    "plt.legend()\n",
    "plt.show()"
   ]
  },
  {
   "cell_type": "code",
   "execution_count": 181,
   "metadata": {},
   "outputs": [],
   "source": [
    "# Evaluate the model on the validation data\n",
    "val_generator = TimeseriesGenerator(val_scaled, val_scaled, length=n_input, batch_size=1)\n",
    "val_pred = model.predict(val_generator)\n",
    "val_pred_unscaled = scaler.inverse_transform(val_pred)\n",
    "val_actual_unscaled = scaler.inverse_transform(val_scaled[-len(val_pred):])"
   ]
  },
  {
   "cell_type": "code",
   "execution_count": 182,
   "metadata": {},
   "outputs": [
    {
     "data": {
      "text/plain": [
       "array([[0.5791609],\n",
       "       [0.6339947]], dtype=float32)"
      ]
     },
     "execution_count": 182,
     "metadata": {},
     "output_type": "execute_result"
    }
   ],
   "source": [
    "val_pred"
   ]
  },
  {
   "cell_type": "code",
   "execution_count": 183,
   "metadata": {},
   "outputs": [
    {
     "data": {
      "text/plain": [
       "(2, 1)"
      ]
     },
     "execution_count": 183,
     "metadata": {},
     "output_type": "execute_result"
    }
   ],
   "source": [
    "val_actual_unscaled = val_actual_unscaled[:len(val.index)]\n",
    "val_actual_unscaled.shape\n"
   ]
  },
  {
   "cell_type": "code",
   "execution_count": 184,
   "metadata": {},
   "outputs": [
    {
     "data": {
      "image/png": "[encoded data removed]",
      "text/plain": [
       "<Figure size 432x288 with 1 Axes>"
      ]
     },
     "metadata": {
      "needs_background": "light"
     },
     "output_type": "display_data"
    }
   ],
   "source": [
    "# Plot the training and validation loss\n",
    "train_loss = history.history['loss']\n",
    "val_loss = history.history['val_loss']\n",
    "epochs = range(1, len(train_loss) + 1)\n",
    "plt.plot(epochs, train_loss, 'bo', label='Training loss')\n",
    "plt.plot(epochs, val_loss, 'b', label='Validation loss')\n",
    "plt.title('Training and validation loss')\n",
    "plt.xlabel('Epochs')\n",
    "plt.ylabel('Loss')\n",
    "plt.legend()\n",
    "plt.show()"
   ]
  },
  {
   "cell_type": "code",
   "execution_count": 185,
   "metadata": {},
   "outputs": [
    {
     "data": {
      "text/plain": [
       "DatetimeIndex(['1975-01-01', '1975-02-01', '1975-03-01', '1975-04-01',\n",
       "               '1975-05-01', '1975-06-01', '1975-07-01', '1975-08-01',\n",
       "               '1975-09-01', '1975-10-01', '1975-11-01', '1975-12-01'],\n",
       "              dtype='datetime64[ns]', name='Date', freq=None)"
      ]
     },
     "execution_count": 185,
     "metadata": {},
     "output_type": "execute_result"
    }
   ],
   "source": [
    "val_pred_unscaled.shape\n",
    "val.index"
   ]
  },
  {
   "cell_type": "code",
   "execution_count": null,
   "metadata": {},
   "outputs": [],
   "source": []
  },
  {
   "cell_type": "code",
   "execution_count": 186,
   "metadata": {},
   "outputs": [
    {
     "ename": "ValueError",
     "evalue": "x and y must have same first dimension, but have shapes (12,) and (2, 1)",
     "output_type": "error",
     "traceback": [
      "\u001b[1;31m---------------------------------------------------------------------------\u001b[0m",
      "\u001b[1;31mValueError\u001b[0m                                Traceback (most recent call last)",
      "\u001b[1;32m~\\AppData\\Local\\Temp/ipykernel_19980/3479755753.py\u001b[0m in \u001b[0;36m<module>\u001b[1;34m\u001b[0m\n\u001b[0;32m      1\u001b[0m \u001b[1;31m# Plot the predicted and actual values for the validation data\u001b[0m\u001b[1;33m\u001b[0m\u001b[1;33m\u001b[0m\u001b[0m\n\u001b[1;32m----> 2\u001b[1;33m \u001b[0mplt\u001b[0m\u001b[1;33m.\u001b[0m\u001b[0mplot\u001b[0m\u001b[1;33m(\u001b[0m\u001b[0mval\u001b[0m\u001b[1;33m.\u001b[0m\u001b[0mindex\u001b[0m\u001b[1;33m,\u001b[0m \u001b[0mval_actual_unscaled\u001b[0m\u001b[1;33m,\u001b[0m \u001b[0mlabel\u001b[0m\u001b[1;33m=\u001b[0m\u001b[1;34m'Actual'\u001b[0m\u001b[1;33m)\u001b[0m\u001b[1;33m\u001b[0m\u001b[1;33m\u001b[0m\u001b[0m\n\u001b[0m\u001b[0;32m      3\u001b[0m \u001b[0mplt\u001b[0m\u001b[1;33m.\u001b[0m\u001b[0mplot\u001b[0m\u001b[1;33m(\u001b[0m\u001b[0mval\u001b[0m\u001b[1;33m.\u001b[0m\u001b[0mindex\u001b[0m\u001b[1;33m,\u001b[0m \u001b[0mval_pred_unscaled\u001b[0m\u001b[1;33m,\u001b[0m \u001b[0mlabel\u001b[0m\u001b[1;33m=\u001b[0m\u001b[1;34m'Predicted'\u001b[0m\u001b[1;33m)\u001b[0m\u001b[1;33m\u001b[0m\u001b[1;33m\u001b[0m\u001b[0m\n\u001b[0;32m      4\u001b[0m \u001b[0mplt\u001b[0m\u001b[1;33m.\u001b[0m\u001b[0mtitle\u001b[0m\u001b[1;33m(\u001b[0m\u001b[1;34m'Validation Data'\u001b[0m\u001b[1;33m)\u001b[0m\u001b[1;33m\u001b[0m\u001b[1;33m\u001b[0m\u001b[0m\n\u001b[0;32m      5\u001b[0m \u001b[0mplt\u001b[0m\u001b[1;33m.\u001b[0m\u001b[0mxlabel\u001b[0m\u001b[1;33m(\u001b[0m\u001b[1;34m'Date'\u001b[0m\u001b[1;33m)\u001b[0m\u001b[1;33m\u001b[0m\u001b[1;33m\u001b[0m\u001b[0m\n",
      "\u001b[1;32mc:\\Users\\ADMIN\\AppData\\Local\\Programs\\Python\\Python39\\lib\\site-packages\\matplotlib\\pyplot.py\u001b[0m in \u001b[0;36mplot\u001b[1;34m(scalex, scaley, data, *args, **kwargs)\u001b[0m\n\u001b[0;32m   3017\u001b[0m \u001b[1;33m@\u001b[0m\u001b[0m_copy_docstring_and_deprecators\u001b[0m\u001b[1;33m(\u001b[0m\u001b[0mAxes\u001b[0m\u001b[1;33m.\u001b[0m\u001b[0mplot\u001b[0m\u001b[1;33m)\u001b[0m\u001b[1;33m\u001b[0m\u001b[1;33m\u001b[0m\u001b[0m\n\u001b[0;32m   3018\u001b[0m \u001b[1;32mdef\u001b[0m \u001b[0mplot\u001b[0m\u001b[1;33m(\u001b[0m\u001b[1;33m*\u001b[0m\u001b[0margs\u001b[0m\u001b[1;33m,\u001b[0m \u001b[0mscalex\u001b[0m\u001b[1;33m=\u001b[0m\u001b[1;32mTrue\u001b[0m\u001b[1;33m,\u001b[0m \u001b[0mscaley\u001b[0m\u001b[1;33m=\u001b[0m\u001b[1;32mTrue\u001b[0m\u001b[1;33m,\u001b[0m \u001b[0mdata\u001b[0m\u001b[1;33m=\u001b[0m\u001b[1;32mNone\u001b[0m\u001b[1;33m,\u001b[0m \u001b[1;33m**\u001b[0m\u001b[0mkwargs\u001b[0m\u001b[1;33m)\u001b[0m\u001b[1;33m:\u001b[0m\u001b[1;33m\u001b[0m\u001b[1;33m\u001b[0m\u001b[0m\n\u001b[1;32m-> 3019\u001b[1;33m     return gca().plot(\n\u001b[0m\u001b[0;32m   3020\u001b[0m         \u001b[1;33m*\u001b[0m\u001b[0margs\u001b[0m\u001b[1;33m,\u001b[0m \u001b[0mscalex\u001b[0m\u001b[1;33m=\u001b[0m\u001b[0mscalex\u001b[0m\u001b[1;33m,\u001b[0m \u001b[0mscaley\u001b[0m\u001b[1;33m=\u001b[0m\u001b[0mscaley\u001b[0m\u001b[1;33m,\u001b[0m\u001b[1;33m\u001b[0m\u001b[1;33m\u001b[0m\u001b[0m\n\u001b[0;32m   3021\u001b[0m         **({\"data\": data} if data is not None else {}), **kwargs)\n",
      "\u001b[1;32mc:\\Users\\ADMIN\\AppData\\Local\\Programs\\Python\\Python39\\lib\\site-packages\\matplotlib\\axes\\_axes.py\u001b[0m in \u001b[0;36mplot\u001b[1;34m(self, scalex, scaley, data, *args, **kwargs)\u001b[0m\n\u001b[0;32m   1603\u001b[0m         \"\"\"\n\u001b[0;32m   1604\u001b[0m         \u001b[0mkwargs\u001b[0m \u001b[1;33m=\u001b[0m \u001b[0mcbook\u001b[0m\u001b[1;33m.\u001b[0m\u001b[0mnormalize_kwargs\u001b[0m\u001b[1;33m(\u001b[0m\u001b[0mkwargs\u001b[0m\u001b[1;33m,\u001b[0m \u001b[0mmlines\u001b[0m\u001b[1;33m.\u001b[0m\u001b[0mLine2D\u001b[0m\u001b[1;33m)\u001b[0m\u001b[1;33m\u001b[0m\u001b[1;33m\u001b[0m\u001b[0m\n\u001b[1;32m-> 1605\u001b[1;33m         \u001b[0mlines\u001b[0m \u001b[1;33m=\u001b[0m \u001b[1;33m[\u001b[0m\u001b[1;33m*\u001b[0m\u001b[0mself\u001b[0m\u001b[1;33m.\u001b[0m\u001b[0m_get_lines\u001b[0m\u001b[1;33m(\u001b[0m\u001b[1;33m*\u001b[0m\u001b[0margs\u001b[0m\u001b[1;33m,\u001b[0m \u001b[0mdata\u001b[0m\u001b[1;33m=\u001b[0m\u001b[0mdata\u001b[0m\u001b[1;33m,\u001b[0m \u001b[1;33m**\u001b[0m\u001b[0mkwargs\u001b[0m\u001b[1;33m)\u001b[0m\u001b[1;33m]\u001b[0m\u001b[1;33m\u001b[0m\u001b[1;33m\u001b[0m\u001b[0m\n\u001b[0m\u001b[0;32m   1606\u001b[0m         \u001b[1;32mfor\u001b[0m \u001b[0mline\u001b[0m \u001b[1;32min\u001b[0m \u001b[0mlines\u001b[0m\u001b[1;33m:\u001b[0m\u001b[1;33m\u001b[0m\u001b[1;33m\u001b[0m\u001b[0m\n\u001b[0;32m   1607\u001b[0m             \u001b[0mself\u001b[0m\u001b[1;33m.\u001b[0m\u001b[0madd_line\u001b[0m\u001b[1;33m(\u001b[0m\u001b[0mline\u001b[0m\u001b[1;33m)\u001b[0m\u001b[1;33m\u001b[0m\u001b[1;33m\u001b[0m\u001b[0m\n",
      "\u001b[1;32mc:\\Users\\ADMIN\\AppData\\Local\\Programs\\Python\\Python39\\lib\\site-packages\\matplotlib\\axes\\_base.py\u001b[0m in \u001b[0;36m__call__\u001b[1;34m(self, data, *args, **kwargs)\u001b[0m\n\u001b[0;32m    313\u001b[0m                 \u001b[0mthis\u001b[0m \u001b[1;33m+=\u001b[0m \u001b[0margs\u001b[0m\u001b[1;33m[\u001b[0m\u001b[1;36m0\u001b[0m\u001b[1;33m]\u001b[0m\u001b[1;33m,\u001b[0m\u001b[1;33m\u001b[0m\u001b[1;33m\u001b[0m\u001b[0m\n\u001b[0;32m    314\u001b[0m                 \u001b[0margs\u001b[0m \u001b[1;33m=\u001b[0m \u001b[0margs\u001b[0m\u001b[1;33m[\u001b[0m\u001b[1;36m1\u001b[0m\u001b[1;33m:\u001b[0m\u001b[1;33m]\u001b[0m\u001b[1;33m\u001b[0m\u001b[1;33m\u001b[0m\u001b[0m\n\u001b[1;32m--> 315\u001b[1;33m             \u001b[1;32myield\u001b[0m \u001b[1;32mfrom\u001b[0m \u001b[0mself\u001b[0m\u001b[1;33m.\u001b[0m\u001b[0m_plot_args\u001b[0m\u001b[1;33m(\u001b[0m\u001b[0mthis\u001b[0m\u001b[1;33m,\u001b[0m \u001b[0mkwargs\u001b[0m\u001b[1;33m)\u001b[0m\u001b[1;33m\u001b[0m\u001b[1;33m\u001b[0m\u001b[0m\n\u001b[0m\u001b[0;32m    316\u001b[0m \u001b[1;33m\u001b[0m\u001b[0m\n\u001b[0;32m    317\u001b[0m     \u001b[1;32mdef\u001b[0m \u001b[0mget_next_color\u001b[0m\u001b[1;33m(\u001b[0m\u001b[0mself\u001b[0m\u001b[1;33m)\u001b[0m\u001b[1;33m:\u001b[0m\u001b[1;33m\u001b[0m\u001b[1;33m\u001b[0m\u001b[0m\n",
      "\u001b[1;32mc:\\Users\\ADMIN\\AppData\\Local\\Programs\\Python\\Python39\\lib\\site-packages\\matplotlib\\axes\\_base.py\u001b[0m in \u001b[0;36m_plot_args\u001b[1;34m(self, tup, kwargs, return_kwargs)\u001b[0m\n\u001b[0;32m    499\u001b[0m \u001b[1;33m\u001b[0m\u001b[0m\n\u001b[0;32m    500\u001b[0m         \u001b[1;32mif\u001b[0m \u001b[0mx\u001b[0m\u001b[1;33m.\u001b[0m\u001b[0mshape\u001b[0m\u001b[1;33m[\u001b[0m\u001b[1;36m0\u001b[0m\u001b[1;33m]\u001b[0m \u001b[1;33m!=\u001b[0m \u001b[0my\u001b[0m\u001b[1;33m.\u001b[0m\u001b[0mshape\u001b[0m\u001b[1;33m[\u001b[0m\u001b[1;36m0\u001b[0m\u001b[1;33m]\u001b[0m\u001b[1;33m:\u001b[0m\u001b[1;33m\u001b[0m\u001b[1;33m\u001b[0m\u001b[0m\n\u001b[1;32m--> 501\u001b[1;33m             raise ValueError(f\"x and y must have same first dimension, but \"\n\u001b[0m\u001b[0;32m    502\u001b[0m                              f\"have shapes {x.shape} and {y.shape}\")\n\u001b[0;32m    503\u001b[0m         \u001b[1;32mif\u001b[0m \u001b[0mx\u001b[0m\u001b[1;33m.\u001b[0m\u001b[0mndim\u001b[0m \u001b[1;33m>\u001b[0m \u001b[1;36m2\u001b[0m \u001b[1;32mor\u001b[0m \u001b[0my\u001b[0m\u001b[1;33m.\u001b[0m\u001b[0mndim\u001b[0m \u001b[1;33m>\u001b[0m \u001b[1;36m2\u001b[0m\u001b[1;33m:\u001b[0m\u001b[1;33m\u001b[0m\u001b[1;33m\u001b[0m\u001b[0m\n",
      "\u001b[1;31mValueError\u001b[0m: x and y must have same first dimension, but have shapes (12,) and (2, 1)"
     ]
    },
    {
     "data": {
      "image/png": "[encoded data removed]",
      "text/plain": [
       "<Figure size 432x288 with 1 Axes>"
      ]
     },
     "metadata": {
      "needs_background": "light"
     },
     "output_type": "display_data"
    }
   ],
   "source": [
    "# Plot the predicted and actual values for the validation data\n",
    "plt.plot(val.index, val_actual_unscaled, label='Actual')\n",
    "plt.plot(val.index, val_pred_unscaled, label='Predicted')\n",
    "plt.title('Validation Data')\n",
    "plt.xlabel('Date')\n",
    "plt.ylabel('Milk Production')\n",
    "plt.legend()\n",
    "plt.show()"
   ]
  }
 ],
 "metadata": {
  "kernelspec": {
   "display_name": "Python 3",
   "language": "python",
   "name": "python3"
  },
  "language_info": {
   "codemirror_mode": {
    "name": "ipython",
    "version": 3
   },
   "file_extension": ".py",
   "mimetype": "text/x-python",
   "name": "python",
   "nbconvert_exporter": "python",
   "pygments_lexer": "ipython3",
   "version": "3.9.8"
  },
  "orig_nbformat": 4
 },
 "nbformat": 4,
 "nbformat_minor": 2
}
